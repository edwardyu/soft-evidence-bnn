{
 "cells": [
  {
   "cell_type": "code",
   "execution_count": 1,
   "metadata": {},
   "outputs": [],
   "source": [
    "import pandas as pd\n",
    "import numpy as np\n",
    "\n",
    "import torch\n",
    "import torch.nn as nn\n",
    "import torch.optim as optim\n",
    "import torch.nn.functional as F\n",
    "\n",
    "from blitz.modules import BayesianLSTM\n",
    "from blitz.utils import variational_estimator\n",
    "\n",
    "from sklearn.model_selection import train_test_split\n",
    "from sklearn.preprocessing import StandardScaler\n",
    "\n",
    "import matplotlib.pyplot as plt\n",
    "%matplotlib inline\n",
    "\n",
    "from collections import deque"
   ]
  },
  {
   "cell_type": "code",
   "execution_count": 4,
   "metadata": {},
   "outputs": [
    {
     "name": "stdout",
     "output_type": "stream",
     "text": [
      "Archive:  stock-time-series-20050101-to-20171231.zip\n",
      "  inflating: AABA_2006-01-01_to_2018-01-01.csv  \n",
      "  inflating: AAPL_2006-01-01_to_2018-01-01.csv  \n",
      "  inflating: AMZN_2006-01-01_to_2018-01-01.csv  \n",
      "  inflating: AXP_2006-01-01_to_2018-01-01.csv  \n",
      "  inflating: BA_2006-01-01_to_2018-01-01.csv  \n",
      "  inflating: CAT_2006-01-01_to_2018-01-01.csv  \n",
      "  inflating: CSCO_2006-01-01_to_2018-01-01.csv  \n",
      "  inflating: CVX_2006-01-01_to_2018-01-01.csv  \n",
      "  inflating: DIS_2006-01-01_to_2018-01-01.csv  \n",
      "  inflating: GE_2006-01-01_to_2018-01-01.csv  \n",
      "  inflating: GOOGL_2006-01-01_to_2018-01-01.csv  \n",
      "  inflating: GS_2006-01-01_to_2018-01-01.csv  \n",
      "  inflating: HD_2006-01-01_to_2018-01-01.csv  \n",
      "  inflating: IBM_2006-01-01_to_2018-01-01.csv  \n",
      "  inflating: INTC_2006-01-01_to_2018-01-01.csv  \n",
      "  inflating: JNJ_2006-01-01_to_2018-01-01.csv  \n",
      "  inflating: JPM_2006-01-01_to_2018-01-01.csv  \n",
      "  inflating: KO_2006-01-01_to_2018-01-01.csv  \n",
      "  inflating: MCD_2006-01-01_to_2018-01-01.csv  \n",
      "  inflating: MMM_2006-01-01_to_2018-01-01.csv  \n",
      "  inflating: MRK_2006-01-01_to_2018-01-01.csv  \n",
      "  inflating: MSFT_2006-01-01_to_2018-01-01.csv  \n",
      "  inflating: NKE_2006-01-01_to_2018-01-01.csv  \n",
      "  inflating: PFE_2006-01-01_to_2018-01-01.csv  \n",
      "  inflating: PG_2006-01-01_to_2018-01-01.csv  \n",
      "  inflating: TRV_2006-01-01_to_2018-01-01.csv  \n",
      "  inflating: UNH_2006-01-01_to_2018-01-01.csv  \n",
      "  inflating: UTX_2006-01-01_to_2018-01-01.csv  \n",
      "  inflating: VZ_2006-01-01_to_2018-01-01.csv  \n",
      "  inflating: WMT_2006-01-01_to_2018-01-01.csv  \n",
      "  inflating: XOM_2006-01-01_to_2018-01-01.csv  \n",
      "  inflating: all_stocks_2006-01-01_to_2018-01-01.csv  \n",
      "  inflating: all_stocks_2017-01-01_to_2018-01-01.csv  \n"
     ]
    }
   ],
   "source": [
    "!cd data && unzip stock-time-series-20050101-to-20171231"
   ]
  },
  {
   "cell_type": "code",
   "execution_count": 5,
   "metadata": {},
   "outputs": [],
   "source": [
    "\"\"\"\n",
    "REMEMBER TO DOWNLOAD THE DATASET AT KAGGLE AT THIS LINK:\n",
    "https://www.kaggle.com/szrlee/stock-time-series-20050101-to-20171231\n",
    "\"\"\"\n",
    "amazon=\"data/AMZN_2006-01-01_to_2018-01-01.csv\"\n",
    "ibm=\"data/IBM_2006-01-01_to_2018-01-01.csv\"\n",
    "df = pd.read_csv(ibm)\n",
    "\n",
    "window_size = 21"
   ]
  },
  {
   "cell_type": "code",
   "execution_count": 6,
   "metadata": {},
   "outputs": [
    {
     "data": {
      "text/html": [
       "<div>\n",
       "<style scoped>\n",
       "    .dataframe tbody tr th:only-of-type {\n",
       "        vertical-align: middle;\n",
       "    }\n",
       "\n",
       "    .dataframe tbody tr th {\n",
       "        vertical-align: top;\n",
       "    }\n",
       "\n",
       "    .dataframe thead th {\n",
       "        text-align: right;\n",
       "    }\n",
       "</style>\n",
       "<table border=\"1\" class=\"dataframe\">\n",
       "  <thead>\n",
       "    <tr style=\"text-align: right;\">\n",
       "      <th></th>\n",
       "      <th>Date</th>\n",
       "      <th>Open</th>\n",
       "      <th>High</th>\n",
       "      <th>Low</th>\n",
       "      <th>Close</th>\n",
       "      <th>Volume</th>\n",
       "      <th>Name</th>\n",
       "    </tr>\n",
       "  </thead>\n",
       "  <tbody>\n",
       "    <tr>\n",
       "      <th>0</th>\n",
       "      <td>2006-01-03</td>\n",
       "      <td>82.45</td>\n",
       "      <td>82.55</td>\n",
       "      <td>80.81</td>\n",
       "      <td>82.06</td>\n",
       "      <td>11715200</td>\n",
       "      <td>IBM</td>\n",
       "    </tr>\n",
       "    <tr>\n",
       "      <th>1</th>\n",
       "      <td>2006-01-04</td>\n",
       "      <td>82.20</td>\n",
       "      <td>82.50</td>\n",
       "      <td>81.33</td>\n",
       "      <td>81.95</td>\n",
       "      <td>9840600</td>\n",
       "      <td>IBM</td>\n",
       "    </tr>\n",
       "    <tr>\n",
       "      <th>2</th>\n",
       "      <td>2006-01-05</td>\n",
       "      <td>81.40</td>\n",
       "      <td>82.90</td>\n",
       "      <td>81.00</td>\n",
       "      <td>82.50</td>\n",
       "      <td>7213500</td>\n",
       "      <td>IBM</td>\n",
       "    </tr>\n",
       "    <tr>\n",
       "      <th>3</th>\n",
       "      <td>2006-01-06</td>\n",
       "      <td>83.95</td>\n",
       "      <td>85.03</td>\n",
       "      <td>83.41</td>\n",
       "      <td>84.95</td>\n",
       "      <td>8197400</td>\n",
       "      <td>IBM</td>\n",
       "    </tr>\n",
       "    <tr>\n",
       "      <th>4</th>\n",
       "      <td>2006-01-09</td>\n",
       "      <td>84.10</td>\n",
       "      <td>84.25</td>\n",
       "      <td>83.38</td>\n",
       "      <td>83.73</td>\n",
       "      <td>6858200</td>\n",
       "      <td>IBM</td>\n",
       "    </tr>\n",
       "  </tbody>\n",
       "</table>\n",
       "</div>"
      ],
      "text/plain": [
       "         Date   Open   High    Low  Close    Volume Name\n",
       "0  2006-01-03  82.45  82.55  80.81  82.06  11715200  IBM\n",
       "1  2006-01-04  82.20  82.50  81.33  81.95   9840600  IBM\n",
       "2  2006-01-05  81.40  82.90  81.00  82.50   7213500  IBM\n",
       "3  2006-01-06  83.95  85.03  83.41  84.95   8197400  IBM\n",
       "4  2006-01-09  84.10  84.25  83.38  83.73   6858200  IBM"
      ]
     },
     "execution_count": 6,
     "metadata": {},
     "output_type": "execute_result"
    }
   ],
   "source": [
    "df.head()"
   ]
  },
  {
   "cell_type": "code",
   "execution_count": 7,
   "metadata": {},
   "outputs": [],
   "source": [
    "close_prices = df[\"Close\"]\n",
    "scaler = StandardScaler()\n",
    "\n",
    "close_prices_arr = np.array(close_prices).reshape(-1, 1)\n",
    "close_prices = scaler.fit_transform(close_prices_arr)\n",
    "\n",
    "close_prices_unscaled = df[\"Close\"]"
   ]
  },
  {
   "cell_type": "code",
   "execution_count": 8,
   "metadata": {},
   "outputs": [],
   "source": [
    "def create_timestamps_ds(series, \n",
    "                         timestep_size=window_size):\n",
    "    time_stamps = []\n",
    "    labels = []\n",
    "    aux_deque = deque(maxlen=timestep_size)\n",
    "    \n",
    "    #starting the timestep deque\n",
    "    for i in range(timestep_size):\n",
    "        aux_deque.append(0)\n",
    "    \n",
    "    #feed the timestamps list\n",
    "    for i in range(len(series)-1):\n",
    "        aux_deque.append(series[i])\n",
    "        time_stamps.append(list(aux_deque))\n",
    "    \n",
    "    #feed the labels lsit\n",
    "    for i in range(len(series)-1):\n",
    "        labels.append(series[i + 1])\n",
    "    \n",
    "    assert len(time_stamps) == len(labels), \"Something went wrong\"\n",
    "    \n",
    "    #torch-tensoring it\n",
    "    features = torch.tensor(time_stamps[timestep_size:]).float()\n",
    "    labels = torch.tensor(labels[timestep_size:]).float()\n",
    "    \n",
    "    return features, labels"
   ]
  },
  {
   "cell_type": "code",
   "execution_count": 9,
   "metadata": {},
   "outputs": [],
   "source": [
    "@variational_estimator\n",
    "class NN(nn.Module):\n",
    "    def __init__(self):\n",
    "        super(NN, self).__init__()\n",
    "        self.lstm_1 = BayesianLSTM(1, 10, prior_sigma_1=1, prior_pi=1, posterior_rho_init=-3.0)\n",
    "        self.linear = nn.Linear(10, 1)\n",
    "            \n",
    "    def forward(self, x):\n",
    "        x_, _ = self.lstm_1(x)\n",
    "        \n",
    "        #gathering only the latent end-of-sequence for the linear layer\n",
    "        x_ = x_[:, -1, :]\n",
    "        x_ = self.linear(x_)\n",
    "        return x_"
   ]
  },
  {
   "cell_type": "code",
   "execution_count": 10,
   "metadata": {},
   "outputs": [],
   "source": [
    "Xs, ys = create_timestamps_ds(close_prices)\n",
    "X_train, X_test, y_train, y_test = train_test_split(Xs,\n",
    "                                                    ys,\n",
    "                                                    test_size=.25,\n",
    "                                                    random_state=42,\n",
    "                                                    shuffle=False)\n",
    "\n",
    "\n",
    "\n",
    "ds = torch.utils.data.TensorDataset(X_train, y_train)\n",
    "dataloader_train = torch.utils.data.DataLoader(ds, batch_size=8, shuffle=True)\n",
    "\n",
    "net = NN()\n",
    "\n",
    "criterion = nn.MSELoss()\n",
    "optimizer = optim.Adam(net.parameters(), lr=0.001)"
   ]
  },
  {
   "cell_type": "code",
   "execution_count": 11,
   "metadata": {},
   "outputs": [
    {
     "name": "stdout",
     "output_type": "stream",
     "text": [
      "Iteration: 250 Val-loss: 0.0467\n",
      "Iteration: 500 Val-loss: 0.0362\n",
      "Iteration: 750 Val-loss: 0.0436\n",
      "Iteration: 1000 Val-loss: 0.0078\n",
      "Iteration: 1250 Val-loss: 0.0050\n",
      "Iteration: 1500 Val-loss: 0.0047\n",
      "Iteration: 1750 Val-loss: 0.0076\n",
      "Iteration: 2000 Val-loss: 0.0058\n",
      "Iteration: 2250 Val-loss: 0.0065\n",
      "Iteration: 2500 Val-loss: 0.0061\n",
      "Iteration: 2750 Val-loss: 0.0089\n"
     ]
    }
   ],
   "source": [
    "iteration = 0\n",
    "for epoch in range(10):\n",
    "    for i, (datapoints, labels) in enumerate(dataloader_train):\n",
    "        optimizer.zero_grad()\n",
    "        \n",
    "        loss = net.sample_elbo(inputs=datapoints,\n",
    "                               labels=labels,\n",
    "                               criterion=criterion,\n",
    "                               sample_nbr=3,\n",
    "                               complexity_cost_weight=1/X_train.shape[0])\n",
    "        loss.backward()\n",
    "        optimizer.step()\n",
    "        \n",
    "        iteration += 1\n",
    "        if iteration%250==0:\n",
    "            preds_test = net(X_test)[:,0].unsqueeze(1)\n",
    "            loss_test = criterion(preds_test, y_test)\n",
    "            print(\"Iteration: {} Val-loss: {:.4f}\".format(str(iteration), loss_test))"
   ]
  },
  {
   "cell_type": "code",
   "execution_count": 12,
   "metadata": {},
   "outputs": [],
   "source": [
    "#pred_unscaled\n",
    "original = close_prices_unscaled[1:][window_size:]"
   ]
  },
  {
   "cell_type": "code",
   "execution_count": 13,
   "metadata": {},
   "outputs": [],
   "source": [
    "df_pred = pd.DataFrame(original)\n",
    "df_pred[\"Date\"] = df.Date\n",
    "df[\"Date\"] = pd.to_datetime(df_pred[\"Date\"])\n",
    "df_pred = df_pred.reset_index()\n",
    "#df_pred = df_pred.set_index('Date')"
   ]
  },
  {
   "cell_type": "code",
   "execution_count": 14,
   "metadata": {},
   "outputs": [],
   "source": [
    "def pred_stock_future(X_test,\n",
    "                                           future_length,\n",
    "                                           sample_nbr=10):\n",
    "    \n",
    "    #sorry for that, window_size is a global variable, and so are X_train and Xs\n",
    "    global window_size\n",
    "    global X_train\n",
    "    global Xs\n",
    "    global scaler\n",
    "    \n",
    "    #creating auxiliar variables for future prediction\n",
    "    preds_test = []\n",
    "    test_begin = X_test[0:1, :, :]\n",
    "    test_deque = deque(test_begin[0,:,0].tolist(), maxlen=window_size)\n",
    "\n",
    "    idx_pred = np.arange(len(X_train), len(Xs))\n",
    "    \n",
    "    #predict it and append to list\n",
    "    for i in range(len(X_test)):\n",
    "        #print(i)\n",
    "        as_net_input = torch.tensor(test_deque).unsqueeze(0).unsqueeze(2)\n",
    "        pred = [net(as_net_input).cpu().item() for i in range(sample_nbr)]\n",
    "        \n",
    "        \n",
    "        test_deque.append(torch.tensor(pred).mean().cpu().item())\n",
    "        preds_test.append(pred)\n",
    "        \n",
    "        if i % future_length == 0:\n",
    "            #our inptus become the i index of our X_test\n",
    "            #That tweak just helps us with shape issues\n",
    "            test_begin = X_test[i:i+1, :, :]\n",
    "            test_deque = deque(test_begin[0,:,0].tolist(), maxlen=window_size)\n",
    "\n",
    "    #preds_test = np.array(preds_test).reshape(-1, 1)\n",
    "    #preds_test_unscaled = scaler.inverse_transform(preds_test)\n",
    "    \n",
    "    return idx_pred, preds_test"
   ]
  },
  {
   "cell_type": "code",
   "execution_count": 15,
   "metadata": {},
   "outputs": [],
   "source": [
    "def get_confidence_intervals(preds_test, ci_multiplier):\n",
    "    global scaler\n",
    "    \n",
    "    preds_test = torch.tensor(preds_test)\n",
    "    \n",
    "    pred_mean = preds_test.mean(1)\n",
    "    pred_std = preds_test.std(1).detach().cpu().numpy()\n",
    "\n",
    "    pred_std = torch.tensor((pred_std))\n",
    "    #print(pred_std)\n",
    "    \n",
    "    upper_bound = pred_mean + (pred_std * ci_multiplier)\n",
    "    lower_bound = pred_mean - (pred_std * ci_multiplier)\n",
    "    #gather unscaled confidence intervals\n",
    "\n",
    "    pred_mean_final = pred_mean.unsqueeze(1).detach().cpu().numpy()\n",
    "    pred_mean_unscaled = scaler.inverse_transform(pred_mean_final)\n",
    "\n",
    "    upper_bound_unscaled = upper_bound.unsqueeze(1).detach().cpu().numpy()\n",
    "    upper_bound_unscaled = scaler.inverse_transform(upper_bound_unscaled)\n",
    "    \n",
    "    lower_bound_unscaled = lower_bound.unsqueeze(1).detach().cpu().numpy()\n",
    "    lower_bound_unscaled = scaler.inverse_transform(lower_bound_unscaled)\n",
    "    \n",
    "    return pred_mean_unscaled, upper_bound_unscaled, lower_bound_unscaled"
   ]
  },
  {
   "cell_type": "code",
   "execution_count": 20,
   "metadata": {},
   "outputs": [],
   "source": [
    "future_length=7\n",
    "sample_nbr=4\n",
    "ci_multiplier=5\n",
    "idx_pred, preds_test = pred_stock_future(X_test, future_length, sample_nbr)\n",
    "pred_mean_unscaled, upper_bound_unscaled, lower_bound_unscaled = get_confidence_intervals(preds_test,\n",
    "                                                                                          ci_multiplier)"
   ]
  },
  {
   "cell_type": "code",
   "execution_count": 21,
   "metadata": {},
   "outputs": [
    {
     "name": "stdout",
     "output_type": "stream",
     "text": [
      "0.9053333333333333 our predictions are in our confidence interval\n"
     ]
    }
   ],
   "source": [
    "y = np.array(df.Close[-750:]).reshape(-1, 1)\n",
    "under_upper = upper_bound_unscaled > y\n",
    "over_lower = lower_bound_unscaled < y\n",
    "total = (under_upper == over_lower)\n",
    "\n",
    "print(\"{} our predictions are in our confidence interval\".format(np.mean(total)))"
   ]
  },
  {
   "cell_type": "code",
   "execution_count": 22,
   "metadata": {},
   "outputs": [
    {
     "data": {
      "text/plain": [
       "<matplotlib.legend.Legend at 0x7f1aecb7fac0>"
      ]
     },
     "execution_count": 22,
     "metadata": {},
     "output_type": "execute_result"
    },
    {
     "data": {
      "image/png": "[encoded data removed]",
      "text/plain": [
       "<Figure size 432x288 with 1 Axes>"
      ]
     },
     "metadata": {
      "needs_background": "dark"
     },
     "output_type": "display_data"
    }
   ],
   "source": [
    "params = {\"ytick.color\" : \"w\",\n",
    "          \"xtick.color\" : \"w\",\n",
    "          \"axes.labelcolor\" : \"w\",\n",
    "          \"axes.edgecolor\" : \"w\"}\n",
    "\n",
    "plt.rcParams.update(params)\n",
    "\n",
    "plt.title(\"IBM Stock prices\", color=\"white\")\n",
    "\n",
    "plt.plot(df_pred.index,\n",
    "         df_pred.Close,\n",
    "         color='black',\n",
    "         label=\"Real\")\n",
    "\n",
    "plt.plot(idx_pred,\n",
    "         pred_mean_unscaled,\n",
    "         label=\"Prediction for {} days, than consult\".format(future_length),\n",
    "         color=\"red\")\n",
    "\n",
    "plt.fill_between(x=idx_pred,\n",
    "                 y1=upper_bound_unscaled[:,0],\n",
    "                 y2=lower_bound_unscaled[:,0],\n",
    "                 facecolor='green',\n",
    "                 label=\"Confidence interval\",\n",
    "                 alpha=0.5)\n",
    "\n",
    "plt.legend()"
   ]
  },
  {
   "cell_type": "code",
   "execution_count": 23,
   "metadata": {},
   "outputs": [
    {
     "data": {
      "text/plain": [
       "<matplotlib.legend.Legend at 0x7f1aecb52520>"
      ]
     },
     "execution_count": 23,
     "metadata": {},
     "output_type": "execute_result"
    },
    {
     "data": {
      "image/png": "[encoded data removed]",
      "text/plain": [
       "<Figure size 432x288 with 1 Axes>"
      ]
     },
     "metadata": {
      "needs_background": "dark"
     },
     "output_type": "display_data"
    }
   ],
   "source": [
    "params = {\"ytick.color\" : \"w\",\n",
    "          \"xtick.color\" : \"w\",\n",
    "          \"axes.labelcolor\" : \"w\",\n",
    "          \"axes.edgecolor\" : \"w\"}\n",
    "plt.rcParams.update(params)\n",
    "\n",
    "plt.title(\"IBM Stock prices\", color=\"white\")\n",
    "\n",
    "\n",
    "plt.fill_between(x=idx_pred,\n",
    "                 y1=upper_bound_unscaled[:,0],\n",
    "                 y2=lower_bound_unscaled[:,0],\n",
    "                 facecolor='green',\n",
    "                 label=\"Confidence interval\",\n",
    "                 alpha=0.75)\n",
    "\n",
    "plt.plot(idx_pred,\n",
    "         df_pred.Close[-len(pred_mean_unscaled):],\n",
    "         label=\"Real\",\n",
    "         alpha=1,\n",
    "         color='black',\n",
    "         linewidth=0.5)\n",
    "\n",
    "plt.plot(idx_pred,\n",
    "         pred_mean_unscaled,\n",
    "         label=\"Prediction for {} days, than consult\".format(future_length),\n",
    "         color=\"red\",\n",
    "         alpha=0.5)\n",
    "\n",
    "plt.legend()"
   ]
  },
  {
   "cell_type": "code",
   "execution_count": null,
   "metadata": {},
   "outputs": [],
   "source": []
  }
 ],
 "metadata": {
  "kernelspec": {
   "display_name": "Python 3",
   "language": "python",
   "name": "python3"
  },
  "language_info": {
   "codemirror_mode": {
    "name": "ipython",
    "version": 3
   },
   "file_extension": ".py",
   "mimetype": "text/x-python",
   "name": "python",
   "nbconvert_exporter": "python",
   "pygments_lexer": "ipython3",
   "version": "3.8.3"
  }
 },
 "nbformat": 4,
 "nbformat_minor": 4
}
